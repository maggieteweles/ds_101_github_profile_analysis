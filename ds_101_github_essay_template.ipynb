{
 "cells": [
  {
   "cell_type": "markdown",
   "id": "7cd586f9",
   "metadata": {},
   "source": [
    "# Digital Studies Essay\n",
    "## Names: Maggie Teweles, Brea DellaFave, Hannah Siegmund, Ella Peters, Xena Iossa\n",
    "### Date: 9/26/25\n"
   ]
  },
  {
   "cell_type": "markdown",
   "id": "85f432db",
   "metadata": {},
   "source": [
    "## Introduction\n",
    "Our project explores the relationship between students’ willingness in Digital Studies 101 to share social media information on their GitHub profiles and their demographic characteristics, including pronouns, graduation year, and field of study. By analyzing publicly available data from GitHub ReadMe profiles, our team collected and modeled the information previously stated to see if there was any correlation. The model question that we asked was whether a student's openness to contact with others correlates with their identity markers. Through data modeling, such as standardized vocabulary and handling missing values, we created a practice model to support our analysis. The findings revealed that 63% of students included social media links, and those who did were significantly more likely to share other personal details. This suggests a broader pattern of digital openness tied to identity and academic context."
   ]
  },
  {
   "cell_type": "markdown",
   "id": "7d807afa",
   "metadata": {},
   "source": [
    "## Theory\n",
    "The base of our theoretical model is the model question: Is willingness to connect on social media based on gender, graduation year, and field of study? This question is relevant because it investigates how identity markers and demographics influence digital openness, specifically in academic settings, where personal and professional information blend together. Each profile is treated as its own entity within our section of Digital Studies 101 and is composed of attributes, including major, graduation year, pronouns, and communication willingness, defined by the presence of social media, email, or LinkedIn links shared on their GitHub profiles. These attributes revealed patterns in self-disclosure, suggesting that students who shared social media links were more likely to also share other personal details. By organizing this data into a structured table, we were able to analyze how combinations of traits shape online behavior. This model allowed us to explore broader questions about visibility, privacy, and identity in digital academic spaces, making it a framework for understanding student engagement online."
   ]
  },
  {
   "cell_type": "markdown",
   "id": "e16a484b",
   "metadata": {},
   "source": [
    "## Data Model\n",
    "\n",
    "Provide an overview of your data model using the following outline\n",
    "- **Attribute name:** cohort\n",
    "- **Attribute data type:** string type with a controlled vocabulary: [freshman, sophomore, junior, senior, not indicated]\n",
    "- **Attribute description:** This variable collects what cohort the student is part of. It is only listed if it is explicitly indicated in the GitHub profile.\n",
    "\n",
    "\n"
   ]
  },
  {
   "cell_type": "markdown",
   "id": "95142573",
   "metadata": {},
   "source": [
    "## Analysis\n",
    "Explain in 2-3 sentences what you are hoping to show in your analysis. \n",
    "Specifically, what variables are you cross-tabulating, and what do you think they will show."
   ]
  },
  {
   "cell_type": "markdown",
   "id": "f514b78b",
   "metadata": {},
   "source": [
    "### Visualization 1 [Rename]\n",
    "\n",
    "- Insert chart here\n",
    "- Explain why chart is significant 2-3 sentences\n",
    "    - Remember the format for adding images is `(alt_text)[images/filename.png]`"
   ]
  },
  {
   "cell_type": "markdown",
   "id": "1275b443",
   "metadata": {},
   "source": [
    "### Visualization 1 [Rename]\n",
    "\n",
    "- Insert chart here\n",
    "- Explain why chart is significant 2-3 sentences\n",
    "    - Remember the format for adding images is `(alt_text)[images/filename.png]`"
   ]
  },
  {
   "cell_type": "markdown",
   "id": "18adf9a8",
   "metadata": {},
   "source": [
    "## Conclusion and Future Research\n",
    "\n",
    "- Provide a conclusion to your research\n",
    "- Indicate how the data may be limited\n",
    "- Reflect on what data you might collect in the future\n"
   ]
  }
 ],
 "metadata": {
  "kernelspec": {
   "display_name": "Python 3",
   "language": "python",
   "name": "python3"
  },
  "language_info": {
   "codemirror_mode": {
    "name": "ipython",
    "version": 3
   },
   "file_extension": ".py",
   "mimetype": "text/x-python",
   "name": "python",
   "nbconvert_exporter": "python",
   "pygments_lexer": "ipython3",
   "version": "3.13.7"
  }
 },
 "nbformat": 4,
 "nbformat_minor": 5
}
