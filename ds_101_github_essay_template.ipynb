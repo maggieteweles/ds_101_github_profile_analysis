{
 "cells": [
  {
   "cell_type": "markdown",
   "id": "7cd586f9",
   "metadata": {},
   "source": [
    "# Title: Maggie Teweles\n",
    "## Names: Morton\n",
    "### Date: [Date]\n",
    "\n",
    "### **Reminder**: This file is templated remove any language that is purely instructive and replace it with your own!"
   ]
  },
  {
   "cell_type": "markdown",
   "id": "85f432db",
   "metadata": {},
   "source": [
    "## Introduction\n",
    "Write a brief overview of your project that covers (5-8 sentences):\n",
    "- Theoretical model\n",
    "- Theoretical question\n",
    "- Findings\n",
    "- Limitations\n",
    "- Future research"
   ]
  },
  {
   "cell_type": "markdown",
   "id": "7d807afa",
   "metadata": {},
   "source": [
    "## Theory\n",
    "- Describe your theoretical model in 2-3 sentences\n",
    "- Give your theoretical question 1-2 sentences\n",
    "- Explain why your theoretical question is relevant 1-2 sentences"
   ]
  },
  {
   "cell_type": "markdown",
   "id": "e16a484b",
   "metadata": {},
   "source": [
    "## Data Model\n",
    "\n",
    "Provide an overview of your data model using the following outline\n",
    "- **Attribute name:** cohort\n",
    "- **Attribute data type:** string type with a controlled vocabulary: [freshman, sophomore, junior, senior, not indicated]\n",
    "- **Attribute description:** This variable collects what cohort the student is part of. It is only listed if it is explicitly indicated in the GitHub profile.\n",
    "\n",
    "\n"
   ]
  },
  {
   "cell_type": "markdown",
   "id": "95142573",
   "metadata": {},
   "source": [
    "## Analysis\n",
    "Explain in 2-3 sentences what you are hoping to show in your analysis. \n",
    "Specifically, what variables are you cross-tabulating, and what do you think they will show."
   ]
  },
  {
   "cell_type": "markdown",
   "id": "f514b78b",
   "metadata": {},
   "source": [
    "### Visualization 1 [Rename]\n",
    "\n",
    "- Insert chart here\n",
    "- Explain why chart is significant 2-3 sentences\n",
    "    - Remember the format for adding images is `(alt_text)[images/filename.png]`"
   ]
  },
  {
   "cell_type": "markdown",
   "id": "1275b443",
   "metadata": {},
   "source": [
    "### Visualization 1 [Rename]\n",
    "\n",
    "- Insert chart here\n",
    "- Explain why chart is significant 2-3 sentences\n",
    "    - Remember the format for adding images is `(alt_text)[images/filename.png]`"
   ]
  },
  {
   "cell_type": "markdown",
   "id": "18adf9a8",
   "metadata": {},
   "source": [
    "## Conclusion and Future Research\n",
    "\n",
    "- Provide a conclusion to your research\n",
    "- Indicate how the data may be limited\n",
    "- Reflect on what data you might collect in the future\n"
   ]
  }
 ],
 "metadata": {
  "kernelspec": {
   "display_name": "Python 3",
   "language": "python",
   "name": "python3"
  },
  "language_info": {
   "codemirror_mode": {
    "name": "ipython",
    "version": 3
   },
   "file_extension": ".py",
   "mimetype": "text/x-python",
   "name": "python",
   "nbconvert_exporter": "python",
   "pygments_lexer": "ipython3",
   "version": "3.13.7"
  }
 },
 "nbformat": 4,
 "nbformat_minor": 5
}
